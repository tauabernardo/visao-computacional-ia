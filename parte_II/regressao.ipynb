{
 "cells": [
  {
   "cell_type": "code",
   "execution_count": null,
   "id": "c25b7097",
   "metadata": {
    "vscode": {
     "languageId": "plaintext"
    }
   },
   "outputs": [],
   "source": [
    "# REGRESSÃO LINEAR - PREVISÃO DE PREÇO DE CASA\n",
    "\n",
    "import pandas as pd\n",
    "from sklearn.linear_model import LinearRegression\n",
    "from sklearn.model_selection import train_test_split\n",
    "from sklearn.metrics import mean_squared_error, r2_score\n",
    "import matplotlib.pyplot as plt\n",
    "\n",
    "# Carregar o dataset\n",
    "df = pd.read_csv(\"kc_house_data.csv\")  # Certifique-se de que está no caminho certo\n",
    "df = df[[\"sqft_living\", \"price\"]]  # Usando apenas uma feature para simplificar\n",
    "\n",
    "# Separar X e y\n",
    "X = df[[\"sqft_living\"]]\n",
    "y = df[\"price\"]\n",
    "\n",
    "# Dividir em treino e teste\n",
    "X_train, X_test, y_train, y_test = train_test_split(X, y, test_size=0.3, random_state=42)\n",
    "\n",
    "# Criar e treinar o modelo\n",
    "model = LinearRegression()\n",
    "model.fit(X_train, y_train)\n",
    "\n",
    "# Prever\n",
    "y_pred = model.predict(X_test)\n",
    "\n",
    "# Avaliação\n",
    "print(\"Erro Quadrático Médio (MSE):\", mean_squared_error(y_test, y_pred))\n",
    "print(\"R² Score:\", r2_score(y_test, y_pred))\n",
    "\n",
    "# Visualização\n",
    "plt.scatter(X_test, y_test, color=\"blue\", label=\"Preço Real\")\n",
    "plt.plot(X_test, y_pred, color=\"red\", label=\"Previsão\")\n",
    "plt.xlabel(\"Tamanho (sqft)\")\n",
    "plt.ylabel(\"Preço\")\n",
    "plt.legend()\n",
    "plt.title(\"Regressão Linear - Preço de Casas\")\n",
    "plt.show()\n"
   ]
  }
 ],
 "metadata": {
  "language_info": {
   "name": "python"
  }
 },
 "nbformat": 4,
 "nbformat_minor": 5
}
